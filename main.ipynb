{
 "cells": [
  {
   "cell_type": "code",
   "execution_count": 1,
   "id": "initial_id",
   "metadata": {
    "collapsed": true,
    "ExecuteTime": {
     "end_time": "2024-04-18T07:51:06.386969300Z",
     "start_time": "2024-04-18T07:51:04.906508900Z"
    }
   },
   "outputs": [],
   "source": [
    "import pandas as pd\n",
    "import os\n",
    "import requests\n",
    "\n",
    "from datetime import date\n",
    "from dateutil.relativedelta import relativedelta"
   ]
  },
  {
   "cell_type": "code",
   "execution_count": 2,
   "outputs": [],
   "source": [
    "# Suppress DtypeWarning\n",
    "import warnings\n",
    "warnings.filterwarnings(\"ignore\")"
   ],
   "metadata": {
    "collapsed": false,
    "ExecuteTime": {
     "end_time": "2024-04-18T07:51:06.410470100Z",
     "start_time": "2024-04-18T07:51:06.389063200Z"
    }
   },
   "id": "f46a516807c173b0"
  },
  {
   "cell_type": "code",
   "execution_count": 3,
   "outputs": [],
   "source": [
    "# Root of project\n",
    "root_dir = os.path.join(\"analysis_data\")\n",
    "os.makedirs(root_dir, exist_ok=True)\n",
    "\n",
    "# Raw data from api\n",
    "data_dir = os.path.join(root_dir, \"data\")\n",
    "os.makedirs(data_dir, exist_ok=True)\n",
    "\n",
    "# Formatted CSV data\n",
    "csv_dir = os.path.join(root_dir, \"csv\")\n",
    "os.makedirs(csv_dir, exist_ok=True)\n",
    "\n",
    "# Data split by location\n",
    "location_dir = os.path.join(root_dir, \"location\")\n",
    "os.makedirs(location_dir, exist_ok=True)"
   ],
   "metadata": {
    "collapsed": false,
    "ExecuteTime": {
     "end_time": "2024-04-18T07:51:06.429477Z",
     "start_time": "2024-04-18T07:51:06.395579600Z"
    }
   },
   "id": "53630421909da6db"
  },
  {
   "cell_type": "code",
   "execution_count": 4,
   "outputs": [],
   "source": [
    "def get_data(start: str, end: str):\n",
    "    data = requests.get(\n",
    "        f\"https://ilm2.site.dustmonitoring.nl/download?from={start}&to={end}&interval=600&align=1&type=csv-semicolon&p=531&p=521&p=542&p=543&p=553&p=544&p=545&p=532&p=533&p=554&p=534&p=535&p=546&p=536&p=556&p=522&p=557&p=547&p=549&p=524&p=537&p=525&p=526&p=539&p=551&p=540&p=558&p=527&p=528&p=529&p=530&p=560&p=561&p=562&p=563&p=564&p=565&p=566&p=567&p=568&p=569&p=570&p=571&p=574&p=575&p=576&p=577&p=578&s=10&s=11&s=128&s=129&s=130&s=145&s=146\"\n",
    "    )\n",
    "    return data.text\n",
    "\n",
    "_date = date(2020, 11, 1)\n",
    "\n",
    "while True:\n",
    "    start_date = _date\n",
    "    end_date = _date + relativedelta(months=2)\n",
    "    data = get_data(start_date.strftime(\"%Y-%m-%d\"), end_date.strftime(\"%Y-%m-%d\"))\n",
    "\n",
    "    file_path = os.path.join(data_dir, f\"data_{start_date.strftime('%Y-%m-%d')}.csv\")\n",
    "\n",
    "    with open(file_path, \"+w\") as file:\n",
    "        file.write(data)\n",
    "\n",
    "    _date = end_date\n",
    "    if _date > date(2024, 3, 1):\n",
    "        break"
   ],
   "metadata": {
    "collapsed": false,
    "ExecuteTime": {
     "end_time": "2024-04-18T08:03:43.473206600Z",
     "start_time": "2024-04-18T07:51:06.410470100Z"
    }
   },
   "id": "3fa428b6a93ea1b5"
  },
  {
   "cell_type": "code",
   "execution_count": 5,
   "outputs": [],
   "source": [
    "dfs = []\n",
    "for file in os.listdir(data_dir):\n",
    "\n",
    "    file_path = os.path.join(data_dir, file)\n",
    "\n",
    "    if not os.path.isfile(file_path):\n",
    "        continue\n",
    "    df = pd.read_csv(file_path, index_col=False, sep=\";\")\n",
    "\n",
    "    # Get the values of the first 2 rows\n",
    "    header_string = df.iloc[:2].values\n",
    "    row_1 = [row.split(\".\")[0] for row in df.columns.tolist()]\n",
    "    row_2 = header_string[0]\n",
    "\n",
    "    # Merge these into the new column names\n",
    "    new_columns = []\n",
    "    for row1, row2 in zip(row_1, row_2):\n",
    "        row1 = row1.replace(\"Unnamed: \", \"\")\n",
    "        new_columns.append(f\"{row1}-{row2}\")\n",
    "    # Remove the used rows\n",
    "    df = df.iloc[2:]\n",
    "    # Set new column names\n",
    "    df.columns = new_columns\n",
    "    \n",
    "    csv_file_path = os.path.join(csv_dir, file)\n",
    "    df.to_csv(csv_file_path, index=False, index_label=False)"
   ],
   "metadata": {
    "collapsed": false,
    "ExecuteTime": {
     "end_time": "2024-04-18T08:03:57.723623400Z",
     "start_time": "2024-04-18T08:03:43.478357900Z"
    }
   },
   "id": "a90206e45f939dd8"
  },
  {
   "cell_type": "code",
   "execution_count": 6,
   "outputs": [
    {
     "data": {
      "text/plain": "(184964, 287)"
     },
     "execution_count": 6,
     "metadata": {},
     "output_type": "execute_result"
    }
   ],
   "source": [
    "# Get all monthly datasets\n",
    "dfs = []\n",
    "for file in os.listdir(csv_dir):\n",
    "    csv_file_path = os.path.join(csv_dir, file)\n",
    "    df = pd.read_csv(csv_file_path, index_col=False)\n",
    "    dfs.append(df)\n",
    "\n",
    "# Join datasets togather into one\n",
    "df = pd.concat(dfs, ignore_index=True)\n",
    "df.shape"
   ],
   "metadata": {
    "collapsed": false,
    "ExecuteTime": {
     "end_time": "2024-04-18T08:04:04.178620200Z",
     "start_time": "2024-04-18T08:03:57.725701800Z"
    }
   },
   "id": "c15764efb671e3b"
  },
  {
   "cell_type": "code",
   "execution_count": 7,
   "outputs": [],
   "source": [
    "for location in range(1, 60):\n",
    "    location = str(location)\n",
    "    if len(location) < 2:\n",
    "        location = '0' + location\n",
    "    \n",
    "    location_columns = ['0-Tijd', '1-Tijd']\n",
    "    for column in df.columns:\n",
    "        if location in column:\n",
    "            location_columns.append(column)\n",
    "\n",
    "    if len(location_columns) > 2:\n",
    "        df_temp = df[location_columns]\n",
    "        location_csv_path = os.path.join(location_dir, f\"I{location}.csv\")\n",
    "        df_temp.to_csv(location_csv_path, index=False, index_label=False)"
   ],
   "metadata": {
    "collapsed": false,
    "ExecuteTime": {
     "end_time": "2024-04-18T08:04:25.584411800Z",
     "start_time": "2024-04-18T08:04:04.182625900Z"
    }
   },
   "id": "865e070d91ef0845"
  },
  {
   "cell_type": "code",
   "execution_count": 8,
   "outputs": [],
   "source": [
    "results = []\n",
    "for location in range(1, 60):\n",
    "    location = str(location)\n",
    "    if len(location) < 2:\n",
    "        location = '0' + location\n",
    "    location_csv_path = os.path.join(location_dir, f\"I{location}.csv\")\n",
    "    if not os.path.isfile(location_csv_path):\n",
    "        continue\n",
    "    df = pd.read_csv(location_csv_path)\n",
    "    df = df.iloc[df[df.columns[2]].first_valid_index():]\n",
    "    df = df.iloc[:df[df.columns[2]].last_valid_index()]\n",
    "\n",
    "    total = df.shape[0]\n",
    "    missing = df[df.columns[2]].isnull().sum()\n",
    "    perc = round(missing/total*100, 2)\n",
    "\n",
    "    obj = {\n",
    "        \"location\": location,\n",
    "        \"start\": df[\"0-Tijd\"][df[\"0-Tijd\"].first_valid_index()],\n",
    "        \"end\": df[\"0-Tijd\"][df[\"0-Tijd\"].last_valid_index()],\n",
    "        \"total rows\": total,\n",
    "        \"missing rows\": missing,\n",
    "        \"percentage missing\": f\"{round(perc, 2)} %\"\n",
    "    }\n",
    "    results.append(obj)"
   ],
   "metadata": {
    "collapsed": false,
    "ExecuteTime": {
     "end_time": "2024-04-18T08:04:37.562025600Z",
     "start_time": "2024-04-18T08:04:25.589768700Z"
    }
   },
   "id": "c72a2d4b6ea25759"
  },
  {
   "cell_type": "code",
   "execution_count": 9,
   "outputs": [
    {
     "data": {
      "text/plain": "   location                start                  end  total rows  \\\n0        01  2022-06-08 00:10:00  2024-04-18 08:10:00       99564   \n1        02  2020-11-01 00:00:00  2024-04-18 08:00:00      184963   \n2        03  2021-03-10 18:10:00  2024-04-18 08:10:00      165989   \n3        04  2021-01-07 16:20:00  2024-04-18 08:10:00      175073   \n4        05  2021-03-25 12:00:00  2024-04-18 08:10:00      163868   \n5        06  2022-11-05 00:00:00  2024-04-18 08:10:00       77530   \n6        07  2021-01-11 16:10:00  2024-04-18 08:10:00      174498   \n7        08  2021-01-25 16:50:00  2024-04-18 08:10:00      172478   \n8        09  2020-12-11 16:00:00  2024-04-18 08:10:00      179108   \n9        10  2020-11-01 00:00:00  2024-04-18 08:00:00      184963   \n10       11  2020-12-21 16:00:00  2024-04-18 08:10:00      177668   \n11       12  2020-12-11 16:00:00  2024-04-18 08:10:00      179108   \n12       13  2021-06-07 20:50:00  2024-04-18 08:10:00      153014   \n13       14  2021-01-20 16:40:00  2024-04-18 08:10:00      173199   \n14       16  2021-03-22 07:00:00  2024-04-18 08:10:00      164330   \n15       17  2021-01-11 16:10:00  2024-04-18 08:10:00      174498   \n16       18  2021-05-31 08:00:00  2024-04-18 08:10:00      154099   \n17       19  2021-01-07 09:00:00  2024-04-18 08:10:00      175117   \n18       22  2021-01-11 16:30:00  2024-04-18 08:10:00      174496   \n19       23  2021-01-25 12:00:00  2024-04-18 08:10:00      172507   \n20       24  2020-12-21 16:00:00  2024-04-18 08:10:00      177668   \n21       25  2020-11-01 00:00:00  2024-04-18 07:50:00      184962   \n22       28  2021-02-05 12:10:00  2024-04-18 08:10:00      170922   \n23       29  2020-12-16 12:30:00  2024-04-18 08:10:00      178409   \n24       30  2021-01-07 16:20:00  2024-04-18 08:10:00      175073   \n25       32  2020-12-16 16:00:00  2024-04-18 08:10:00      178388   \n26       33  2021-03-15 18:20:00  2024-04-18 08:10:00      165270   \n27       36  2020-11-01 00:00:00  2024-04-18 08:00:00      184963   \n28       37  2020-11-01 00:00:00  2024-04-18 08:00:00      184963   \n29       39  2020-11-01 00:10:00  2024-04-18 08:00:00      184962   \n30       40  2020-11-01 00:10:00  2024-04-18 08:10:00      184963   \n31       41  2021-03-16 18:20:00  2024-04-18 08:10:00      165126   \n32       42  2021-06-07 20:30:00  2024-04-18 08:10:00      153016   \n33       43  2021-03-16 18:20:00  2024-04-18 08:10:00      165126   \n34       44  2021-06-08 03:40:00  2024-04-18 08:10:00      152973   \n35       45  2021-05-31 08:00:00  2024-04-18 08:10:00      154099   \n36       46  2021-08-06 20:00:00  2024-04-18 08:10:00      144234   \n37       47  2021-08-06 19:50:00  2024-04-18 08:10:00      144235   \n38       48  2021-06-09 09:00:00  2024-04-18 08:10:00      152797   \n39       49  2021-06-09 09:00:00  2024-04-18 08:10:00      152797   \n40       50  2022-01-24 09:00:00  2024-04-18 08:10:00      119241   \n41       51  2021-06-09 09:00:00  2024-04-18 08:10:00      152797   \n42       52  2021-06-09 09:00:00  2024-04-18 08:10:00      152797   \n43       55  2021-11-25 16:20:00  2024-04-18 08:10:00      127982   \n44       56  2021-08-05 20:00:00  2024-04-18 08:10:00      144378   \n45       58  2021-08-06 20:00:00  2024-04-18 08:10:00      144234   \n46       59  2024-02-01 00:00:00  2024-04-18 08:10:00       11283   \n\n    missing rows percentage missing  \n0          17992            18.07 %  \n1          35646            19.27 %  \n2          21267            12.81 %  \n3          35770            20.43 %  \n4          33199            20.26 %  \n5          29508            38.06 %  \n6          24548            14.07 %  \n7          78749            45.66 %  \n8          33697            18.81 %  \n9          35030            18.94 %  \n10         24838            13.98 %  \n11         35026            19.56 %  \n12         30317            19.81 %  \n13         32034             18.5 %  \n14         30558             18.6 %  \n15         40219            23.05 %  \n16         21594            14.01 %  \n17         32094            18.33 %  \n18         45906            26.31 %  \n19         32818            19.02 %  \n20         31007            17.45 %  \n21         35876             19.4 %  \n22         47469            27.77 %  \n23         28033            15.71 %  \n24         36556            20.88 %  \n25         19337            10.84 %  \n26         27120            16.41 %  \n27         40487            21.89 %  \n28         33832            18.29 %  \n29         42586            23.02 %  \n30         34309            18.55 %  \n31         31578            19.12 %  \n32         22961            15.01 %  \n33         29955            18.14 %  \n34         21426            14.01 %  \n35         30884            20.04 %  \n36         34444            23.88 %  \n37         26428            18.32 %  \n38         33083            21.65 %  \n39         25002            16.36 %  \n40         27776            23.29 %  \n41         24404            15.97 %  \n42         29584            19.36 %  \n43         28342            22.15 %  \n44         17895            12.39 %  \n45         13055             9.05 %  \n46          2432            21.55 %  ",
      "text/html": "<div>\n<style scoped>\n    .dataframe tbody tr th:only-of-type {\n        vertical-align: middle;\n    }\n\n    .dataframe tbody tr th {\n        vertical-align: top;\n    }\n\n    .dataframe thead th {\n        text-align: right;\n    }\n</style>\n<table border=\"1\" class=\"dataframe\">\n  <thead>\n    <tr style=\"text-align: right;\">\n      <th></th>\n      <th>location</th>\n      <th>start</th>\n      <th>end</th>\n      <th>total rows</th>\n      <th>missing rows</th>\n      <th>percentage missing</th>\n    </tr>\n  </thead>\n  <tbody>\n    <tr>\n      <th>0</th>\n      <td>01</td>\n      <td>2022-06-08 00:10:00</td>\n      <td>2024-04-18 08:10:00</td>\n      <td>99564</td>\n      <td>17992</td>\n      <td>18.07 %</td>\n    </tr>\n    <tr>\n      <th>1</th>\n      <td>02</td>\n      <td>2020-11-01 00:00:00</td>\n      <td>2024-04-18 08:00:00</td>\n      <td>184963</td>\n      <td>35646</td>\n      <td>19.27 %</td>\n    </tr>\n    <tr>\n      <th>2</th>\n      <td>03</td>\n      <td>2021-03-10 18:10:00</td>\n      <td>2024-04-18 08:10:00</td>\n      <td>165989</td>\n      <td>21267</td>\n      <td>12.81 %</td>\n    </tr>\n    <tr>\n      <th>3</th>\n      <td>04</td>\n      <td>2021-01-07 16:20:00</td>\n      <td>2024-04-18 08:10:00</td>\n      <td>175073</td>\n      <td>35770</td>\n      <td>20.43 %</td>\n    </tr>\n    <tr>\n      <th>4</th>\n      <td>05</td>\n      <td>2021-03-25 12:00:00</td>\n      <td>2024-04-18 08:10:00</td>\n      <td>163868</td>\n      <td>33199</td>\n      <td>20.26 %</td>\n    </tr>\n    <tr>\n      <th>5</th>\n      <td>06</td>\n      <td>2022-11-05 00:00:00</td>\n      <td>2024-04-18 08:10:00</td>\n      <td>77530</td>\n      <td>29508</td>\n      <td>38.06 %</td>\n    </tr>\n    <tr>\n      <th>6</th>\n      <td>07</td>\n      <td>2021-01-11 16:10:00</td>\n      <td>2024-04-18 08:10:00</td>\n      <td>174498</td>\n      <td>24548</td>\n      <td>14.07 %</td>\n    </tr>\n    <tr>\n      <th>7</th>\n      <td>08</td>\n      <td>2021-01-25 16:50:00</td>\n      <td>2024-04-18 08:10:00</td>\n      <td>172478</td>\n      <td>78749</td>\n      <td>45.66 %</td>\n    </tr>\n    <tr>\n      <th>8</th>\n      <td>09</td>\n      <td>2020-12-11 16:00:00</td>\n      <td>2024-04-18 08:10:00</td>\n      <td>179108</td>\n      <td>33697</td>\n      <td>18.81 %</td>\n    </tr>\n    <tr>\n      <th>9</th>\n      <td>10</td>\n      <td>2020-11-01 00:00:00</td>\n      <td>2024-04-18 08:00:00</td>\n      <td>184963</td>\n      <td>35030</td>\n      <td>18.94 %</td>\n    </tr>\n    <tr>\n      <th>10</th>\n      <td>11</td>\n      <td>2020-12-21 16:00:00</td>\n      <td>2024-04-18 08:10:00</td>\n      <td>177668</td>\n      <td>24838</td>\n      <td>13.98 %</td>\n    </tr>\n    <tr>\n      <th>11</th>\n      <td>12</td>\n      <td>2020-12-11 16:00:00</td>\n      <td>2024-04-18 08:10:00</td>\n      <td>179108</td>\n      <td>35026</td>\n      <td>19.56 %</td>\n    </tr>\n    <tr>\n      <th>12</th>\n      <td>13</td>\n      <td>2021-06-07 20:50:00</td>\n      <td>2024-04-18 08:10:00</td>\n      <td>153014</td>\n      <td>30317</td>\n      <td>19.81 %</td>\n    </tr>\n    <tr>\n      <th>13</th>\n      <td>14</td>\n      <td>2021-01-20 16:40:00</td>\n      <td>2024-04-18 08:10:00</td>\n      <td>173199</td>\n      <td>32034</td>\n      <td>18.5 %</td>\n    </tr>\n    <tr>\n      <th>14</th>\n      <td>16</td>\n      <td>2021-03-22 07:00:00</td>\n      <td>2024-04-18 08:10:00</td>\n      <td>164330</td>\n      <td>30558</td>\n      <td>18.6 %</td>\n    </tr>\n    <tr>\n      <th>15</th>\n      <td>17</td>\n      <td>2021-01-11 16:10:00</td>\n      <td>2024-04-18 08:10:00</td>\n      <td>174498</td>\n      <td>40219</td>\n      <td>23.05 %</td>\n    </tr>\n    <tr>\n      <th>16</th>\n      <td>18</td>\n      <td>2021-05-31 08:00:00</td>\n      <td>2024-04-18 08:10:00</td>\n      <td>154099</td>\n      <td>21594</td>\n      <td>14.01 %</td>\n    </tr>\n    <tr>\n      <th>17</th>\n      <td>19</td>\n      <td>2021-01-07 09:00:00</td>\n      <td>2024-04-18 08:10:00</td>\n      <td>175117</td>\n      <td>32094</td>\n      <td>18.33 %</td>\n    </tr>\n    <tr>\n      <th>18</th>\n      <td>22</td>\n      <td>2021-01-11 16:30:00</td>\n      <td>2024-04-18 08:10:00</td>\n      <td>174496</td>\n      <td>45906</td>\n      <td>26.31 %</td>\n    </tr>\n    <tr>\n      <th>19</th>\n      <td>23</td>\n      <td>2021-01-25 12:00:00</td>\n      <td>2024-04-18 08:10:00</td>\n      <td>172507</td>\n      <td>32818</td>\n      <td>19.02 %</td>\n    </tr>\n    <tr>\n      <th>20</th>\n      <td>24</td>\n      <td>2020-12-21 16:00:00</td>\n      <td>2024-04-18 08:10:00</td>\n      <td>177668</td>\n      <td>31007</td>\n      <td>17.45 %</td>\n    </tr>\n    <tr>\n      <th>21</th>\n      <td>25</td>\n      <td>2020-11-01 00:00:00</td>\n      <td>2024-04-18 07:50:00</td>\n      <td>184962</td>\n      <td>35876</td>\n      <td>19.4 %</td>\n    </tr>\n    <tr>\n      <th>22</th>\n      <td>28</td>\n      <td>2021-02-05 12:10:00</td>\n      <td>2024-04-18 08:10:00</td>\n      <td>170922</td>\n      <td>47469</td>\n      <td>27.77 %</td>\n    </tr>\n    <tr>\n      <th>23</th>\n      <td>29</td>\n      <td>2020-12-16 12:30:00</td>\n      <td>2024-04-18 08:10:00</td>\n      <td>178409</td>\n      <td>28033</td>\n      <td>15.71 %</td>\n    </tr>\n    <tr>\n      <th>24</th>\n      <td>30</td>\n      <td>2021-01-07 16:20:00</td>\n      <td>2024-04-18 08:10:00</td>\n      <td>175073</td>\n      <td>36556</td>\n      <td>20.88 %</td>\n    </tr>\n    <tr>\n      <th>25</th>\n      <td>32</td>\n      <td>2020-12-16 16:00:00</td>\n      <td>2024-04-18 08:10:00</td>\n      <td>178388</td>\n      <td>19337</td>\n      <td>10.84 %</td>\n    </tr>\n    <tr>\n      <th>26</th>\n      <td>33</td>\n      <td>2021-03-15 18:20:00</td>\n      <td>2024-04-18 08:10:00</td>\n      <td>165270</td>\n      <td>27120</td>\n      <td>16.41 %</td>\n    </tr>\n    <tr>\n      <th>27</th>\n      <td>36</td>\n      <td>2020-11-01 00:00:00</td>\n      <td>2024-04-18 08:00:00</td>\n      <td>184963</td>\n      <td>40487</td>\n      <td>21.89 %</td>\n    </tr>\n    <tr>\n      <th>28</th>\n      <td>37</td>\n      <td>2020-11-01 00:00:00</td>\n      <td>2024-04-18 08:00:00</td>\n      <td>184963</td>\n      <td>33832</td>\n      <td>18.29 %</td>\n    </tr>\n    <tr>\n      <th>29</th>\n      <td>39</td>\n      <td>2020-11-01 00:10:00</td>\n      <td>2024-04-18 08:00:00</td>\n      <td>184962</td>\n      <td>42586</td>\n      <td>23.02 %</td>\n    </tr>\n    <tr>\n      <th>30</th>\n      <td>40</td>\n      <td>2020-11-01 00:10:00</td>\n      <td>2024-04-18 08:10:00</td>\n      <td>184963</td>\n      <td>34309</td>\n      <td>18.55 %</td>\n    </tr>\n    <tr>\n      <th>31</th>\n      <td>41</td>\n      <td>2021-03-16 18:20:00</td>\n      <td>2024-04-18 08:10:00</td>\n      <td>165126</td>\n      <td>31578</td>\n      <td>19.12 %</td>\n    </tr>\n    <tr>\n      <th>32</th>\n      <td>42</td>\n      <td>2021-06-07 20:30:00</td>\n      <td>2024-04-18 08:10:00</td>\n      <td>153016</td>\n      <td>22961</td>\n      <td>15.01 %</td>\n    </tr>\n    <tr>\n      <th>33</th>\n      <td>43</td>\n      <td>2021-03-16 18:20:00</td>\n      <td>2024-04-18 08:10:00</td>\n      <td>165126</td>\n      <td>29955</td>\n      <td>18.14 %</td>\n    </tr>\n    <tr>\n      <th>34</th>\n      <td>44</td>\n      <td>2021-06-08 03:40:00</td>\n      <td>2024-04-18 08:10:00</td>\n      <td>152973</td>\n      <td>21426</td>\n      <td>14.01 %</td>\n    </tr>\n    <tr>\n      <th>35</th>\n      <td>45</td>\n      <td>2021-05-31 08:00:00</td>\n      <td>2024-04-18 08:10:00</td>\n      <td>154099</td>\n      <td>30884</td>\n      <td>20.04 %</td>\n    </tr>\n    <tr>\n      <th>36</th>\n      <td>46</td>\n      <td>2021-08-06 20:00:00</td>\n      <td>2024-04-18 08:10:00</td>\n      <td>144234</td>\n      <td>34444</td>\n      <td>23.88 %</td>\n    </tr>\n    <tr>\n      <th>37</th>\n      <td>47</td>\n      <td>2021-08-06 19:50:00</td>\n      <td>2024-04-18 08:10:00</td>\n      <td>144235</td>\n      <td>26428</td>\n      <td>18.32 %</td>\n    </tr>\n    <tr>\n      <th>38</th>\n      <td>48</td>\n      <td>2021-06-09 09:00:00</td>\n      <td>2024-04-18 08:10:00</td>\n      <td>152797</td>\n      <td>33083</td>\n      <td>21.65 %</td>\n    </tr>\n    <tr>\n      <th>39</th>\n      <td>49</td>\n      <td>2021-06-09 09:00:00</td>\n      <td>2024-04-18 08:10:00</td>\n      <td>152797</td>\n      <td>25002</td>\n      <td>16.36 %</td>\n    </tr>\n    <tr>\n      <th>40</th>\n      <td>50</td>\n      <td>2022-01-24 09:00:00</td>\n      <td>2024-04-18 08:10:00</td>\n      <td>119241</td>\n      <td>27776</td>\n      <td>23.29 %</td>\n    </tr>\n    <tr>\n      <th>41</th>\n      <td>51</td>\n      <td>2021-06-09 09:00:00</td>\n      <td>2024-04-18 08:10:00</td>\n      <td>152797</td>\n      <td>24404</td>\n      <td>15.97 %</td>\n    </tr>\n    <tr>\n      <th>42</th>\n      <td>52</td>\n      <td>2021-06-09 09:00:00</td>\n      <td>2024-04-18 08:10:00</td>\n      <td>152797</td>\n      <td>29584</td>\n      <td>19.36 %</td>\n    </tr>\n    <tr>\n      <th>43</th>\n      <td>55</td>\n      <td>2021-11-25 16:20:00</td>\n      <td>2024-04-18 08:10:00</td>\n      <td>127982</td>\n      <td>28342</td>\n      <td>22.15 %</td>\n    </tr>\n    <tr>\n      <th>44</th>\n      <td>56</td>\n      <td>2021-08-05 20:00:00</td>\n      <td>2024-04-18 08:10:00</td>\n      <td>144378</td>\n      <td>17895</td>\n      <td>12.39 %</td>\n    </tr>\n    <tr>\n      <th>45</th>\n      <td>58</td>\n      <td>2021-08-06 20:00:00</td>\n      <td>2024-04-18 08:10:00</td>\n      <td>144234</td>\n      <td>13055</td>\n      <td>9.05 %</td>\n    </tr>\n    <tr>\n      <th>46</th>\n      <td>59</td>\n      <td>2024-02-01 00:00:00</td>\n      <td>2024-04-18 08:10:00</td>\n      <td>11283</td>\n      <td>2432</td>\n      <td>21.55 %</td>\n    </tr>\n  </tbody>\n</table>\n</div>"
     },
     "execution_count": 9,
     "metadata": {},
     "output_type": "execute_result"
    }
   ],
   "source": [
    "df_res = pd.DataFrame.from_records(results)\n",
    "df_res"
   ],
   "metadata": {
    "collapsed": false,
    "ExecuteTime": {
     "end_time": "2024-04-18T08:04:37.581030300Z",
     "start_time": "2024-04-18T08:04:37.564026500Z"
    }
   },
   "id": "e215bdce6214d4f5"
  }
 ],
 "metadata": {
  "kernelspec": {
   "display_name": "Python 3",
   "language": "python",
   "name": "python3"
  },
  "language_info": {
   "codemirror_mode": {
    "name": "ipython",
    "version": 2
   },
   "file_extension": ".py",
   "mimetype": "text/x-python",
   "name": "python",
   "nbconvert_exporter": "python",
   "pygments_lexer": "ipython2",
   "version": "2.7.6"
  }
 },
 "nbformat": 4,
 "nbformat_minor": 5
}
